{
 "cells": [
  {
   "cell_type": "markdown",
   "id": "4fad7b96-ea88-4ab3-8146-52ef06ca23f2",
   "metadata": {},
   "source": [
    "# 0. Khai báo các thư viện cần dùng"
   ]
  },
  {
   "cell_type": "code",
   "execution_count": 1,
   "id": "c3f93a93-25f8-407a-9b00-da4d8e1de452",
   "metadata": {},
   "outputs": [],
   "source": [
    "import pandas as pd\n",
    "import numpy as np\n",
    "import seaborn as sns\n",
    "from sklearn.preprocessing import MinMaxScaler, RobustScaler, StandardScaler\n",
    "from sklearn.preprocessing import OneHotEncoder, LabelEncoder, OrdinalEncoder"
   ]
  },
  {
   "cell_type": "markdown",
   "id": "3e420e5b-9cde-43ea-a3fa-64231edf1854",
   "metadata": {},
   "source": [
    "# 1. Đọc dữ liệu"
   ]
  },
  {
   "cell_type": "code",
   "execution_count": 2,
   "id": "51da1c1a-79e3-4f69-b45b-9b9c19c33e19",
   "metadata": {},
   "outputs": [
    {
     "data": {
      "text/html": [
       "<div>\n",
       "<style scoped>\n",
       "    .dataframe tbody tr th:only-of-type {\n",
       "        vertical-align: middle;\n",
       "    }\n",
       "\n",
       "    .dataframe tbody tr th {\n",
       "        vertical-align: top;\n",
       "    }\n",
       "\n",
       "    .dataframe thead th {\n",
       "        text-align: right;\n",
       "    }\n",
       "</style>\n",
       "<table border=\"1\" class=\"dataframe\">\n",
       "  <thead>\n",
       "    <tr style=\"text-align: right;\">\n",
       "      <th></th>\n",
       "      <th>Unnamed: 0</th>\n",
       "      <th>SeriousDlqin2yrs</th>\n",
       "      <th>RevolvingUtilizationOfUnsecuredLines</th>\n",
       "      <th>age</th>\n",
       "      <th>NumberOfTime30-59DaysPastDueNotWorse</th>\n",
       "      <th>DebtRatio</th>\n",
       "      <th>MonthlyIncome</th>\n",
       "      <th>NumberOfOpenCreditLinesAndLoans</th>\n",
       "      <th>NumberOfTimes90DaysLate</th>\n",
       "      <th>NumberRealEstateLoansOrLines</th>\n",
       "      <th>NumberOfTime60-89DaysPastDueNotWorse</th>\n",
       "      <th>NumberOfDependents</th>\n",
       "    </tr>\n",
       "  </thead>\n",
       "  <tbody>\n",
       "    <tr>\n",
       "      <th>0</th>\n",
       "      <td>9</td>\n",
       "      <td>0</td>\n",
       "      <td>0.116951</td>\n",
       "      <td>27</td>\n",
       "      <td>0</td>\n",
       "      <td>46.000000</td>\n",
       "      <td>NaN</td>\n",
       "      <td>2</td>\n",
       "      <td>0</td>\n",
       "      <td>0</td>\n",
       "      <td>0</td>\n",
       "      <td>NaN</td>\n",
       "    </tr>\n",
       "    <tr>\n",
       "      <th>1</th>\n",
       "      <td>10</td>\n",
       "      <td>0</td>\n",
       "      <td>0.189169</td>\n",
       "      <td>57</td>\n",
       "      <td>0</td>\n",
       "      <td>0.606291</td>\n",
       "      <td>23684.0</td>\n",
       "      <td>9</td>\n",
       "      <td>0</td>\n",
       "      <td>4</td>\n",
       "      <td>0</td>\n",
       "      <td>2.0</td>\n",
       "    </tr>\n",
       "    <tr>\n",
       "      <th>2</th>\n",
       "      <td>11</td>\n",
       "      <td>0</td>\n",
       "      <td>0.644226</td>\n",
       "      <td>30</td>\n",
       "      <td>0</td>\n",
       "      <td>0.309476</td>\n",
       "      <td>2500.0</td>\n",
       "      <td>5</td>\n",
       "      <td>0</td>\n",
       "      <td>0</td>\n",
       "      <td>0</td>\n",
       "      <td>0.0</td>\n",
       "    </tr>\n",
       "    <tr>\n",
       "      <th>3</th>\n",
       "      <td>12</td>\n",
       "      <td>0</td>\n",
       "      <td>0.018798</td>\n",
       "      <td>51</td>\n",
       "      <td>0</td>\n",
       "      <td>0.531529</td>\n",
       "      <td>6501.0</td>\n",
       "      <td>7</td>\n",
       "      <td>0</td>\n",
       "      <td>2</td>\n",
       "      <td>0</td>\n",
       "      <td>2.0</td>\n",
       "    </tr>\n",
       "    <tr>\n",
       "      <th>4</th>\n",
       "      <td>13</td>\n",
       "      <td>0</td>\n",
       "      <td>0.010352</td>\n",
       "      <td>46</td>\n",
       "      <td>0</td>\n",
       "      <td>0.298354</td>\n",
       "      <td>12454.0</td>\n",
       "      <td>13</td>\n",
       "      <td>0</td>\n",
       "      <td>2</td>\n",
       "      <td>0</td>\n",
       "      <td>2.0</td>\n",
       "    </tr>\n",
       "  </tbody>\n",
       "</table>\n",
       "</div>"
      ],
      "text/plain": [
       "   Unnamed: 0  SeriousDlqin2yrs  RevolvingUtilizationOfUnsecuredLines  age  \\\n",
       "0           9                 0                              0.116951   27   \n",
       "1          10                 0                              0.189169   57   \n",
       "2          11                 0                              0.644226   30   \n",
       "3          12                 0                              0.018798   51   \n",
       "4          13                 0                              0.010352   46   \n",
       "\n",
       "   NumberOfTime30-59DaysPastDueNotWorse  DebtRatio  MonthlyIncome  \\\n",
       "0                                     0  46.000000            NaN   \n",
       "1                                     0   0.606291        23684.0   \n",
       "2                                     0   0.309476         2500.0   \n",
       "3                                     0   0.531529         6501.0   \n",
       "4                                     0   0.298354        12454.0   \n",
       "\n",
       "   NumberOfOpenCreditLinesAndLoans  NumberOfTimes90DaysLate  \\\n",
       "0                                2                        0   \n",
       "1                                9                        0   \n",
       "2                                5                        0   \n",
       "3                                7                        0   \n",
       "4                               13                        0   \n",
       "\n",
       "   NumberRealEstateLoansOrLines  NumberOfTime60-89DaysPastDueNotWorse  \\\n",
       "0                             0                                     0   \n",
       "1                             4                                     0   \n",
       "2                             0                                     0   \n",
       "3                             2                                     0   \n",
       "4                             2                                     0   \n",
       "\n",
       "   NumberOfDependents  \n",
       "0                 NaN  \n",
       "1                 2.0  \n",
       "2                 0.0  \n",
       "3                 2.0  \n",
       "4                 2.0  "
      ]
     },
     "execution_count": 2,
     "metadata": {},
     "output_type": "execute_result"
    }
   ],
   "source": [
    "df = pd.read_csv(\"https://s3.ap-southeast-1.amazonaws.com/learn.codegym.vn/media/public/2022/01/26023345/Credit_Scoring.csv\", encoding = \"ISO-8859-1\")\n",
    "df.head()"
   ]
  },
  {
   "cell_type": "code",
   "execution_count": 3,
   "id": "f746079b-d82d-43db-8fc8-4387035f8ec2",
   "metadata": {},
   "outputs": [
    {
     "name": "stdout",
     "output_type": "stream",
     "text": [
      "<class 'pandas.core.frame.DataFrame'>\n",
      "RangeIndex: 149992 entries, 0 to 149991\n",
      "Data columns (total 12 columns):\n",
      " #   Column                                Non-Null Count   Dtype  \n",
      "---  ------                                --------------   -----  \n",
      " 0   Unnamed: 0                            149992 non-null  int64  \n",
      " 1   SeriousDlqin2yrs                      149992 non-null  int64  \n",
      " 2   RevolvingUtilizationOfUnsecuredLines  149992 non-null  float64\n",
      " 3   age                                   149992 non-null  int64  \n",
      " 4   NumberOfTime30-59DaysPastDueNotWorse  149992 non-null  int64  \n",
      " 5   DebtRatio                             149992 non-null  float64\n",
      " 6   MonthlyIncome                         120262 non-null  float64\n",
      " 7   NumberOfOpenCreditLinesAndLoans       149992 non-null  int64  \n",
      " 8   NumberOfTimes90DaysLate               149992 non-null  int64  \n",
      " 9   NumberRealEstateLoansOrLines          149992 non-null  int64  \n",
      " 10  NumberOfTime60-89DaysPastDueNotWorse  149992 non-null  int64  \n",
      " 11  NumberOfDependents                    146068 non-null  float64\n",
      "dtypes: float64(4), int64(8)\n",
      "memory usage: 13.7 MB\n"
     ]
    }
   ],
   "source": [
    "df.info()"
   ]
  },
  {
   "cell_type": "code",
   "execution_count": 4,
   "id": "03aa2a03-198f-423a-ad00-b176a608b834",
   "metadata": {},
   "outputs": [
    {
     "data": {
      "text/html": [
       "<div>\n",
       "<style scoped>\n",
       "    .dataframe tbody tr th:only-of-type {\n",
       "        vertical-align: middle;\n",
       "    }\n",
       "\n",
       "    .dataframe tbody tr th {\n",
       "        vertical-align: top;\n",
       "    }\n",
       "\n",
       "    .dataframe thead th {\n",
       "        text-align: right;\n",
       "    }\n",
       "</style>\n",
       "<table border=\"1\" class=\"dataframe\">\n",
       "  <thead>\n",
       "    <tr style=\"text-align: right;\">\n",
       "      <th></th>\n",
       "      <th>Unnamed: 0</th>\n",
       "      <th>SeriousDlqin2yrs</th>\n",
       "      <th>RevolvingUtilizationOfUnsecuredLines</th>\n",
       "      <th>age</th>\n",
       "      <th>NumberOfTime30-59DaysPastDueNotWorse</th>\n",
       "      <th>DebtRatio</th>\n",
       "      <th>MonthlyIncome</th>\n",
       "      <th>NumberOfOpenCreditLinesAndLoans</th>\n",
       "      <th>NumberOfTimes90DaysLate</th>\n",
       "      <th>NumberRealEstateLoansOrLines</th>\n",
       "      <th>NumberOfTime60-89DaysPastDueNotWorse</th>\n",
       "      <th>NumberOfDependents</th>\n",
       "    </tr>\n",
       "  </thead>\n",
       "  <tbody>\n",
       "    <tr>\n",
       "      <th>count</th>\n",
       "      <td>149992.000000</td>\n",
       "      <td>149992.000000</td>\n",
       "      <td>149992.000000</td>\n",
       "      <td>149992.000000</td>\n",
       "      <td>149992.000000</td>\n",
       "      <td>149992.000000</td>\n",
       "      <td>1.202620e+05</td>\n",
       "      <td>149992.000000</td>\n",
       "      <td>149992.000000</td>\n",
       "      <td>149992.000000</td>\n",
       "      <td>149992.000000</td>\n",
       "      <td>146068.000000</td>\n",
       "    </tr>\n",
       "    <tr>\n",
       "      <th>mean</th>\n",
       "      <td>75004.500000</td>\n",
       "      <td>0.066837</td>\n",
       "      <td>6.048729</td>\n",
       "      <td>52.295516</td>\n",
       "      <td>0.421029</td>\n",
       "      <td>352.985824</td>\n",
       "      <td>6.669872e+03</td>\n",
       "      <td>8.452877</td>\n",
       "      <td>0.265981</td>\n",
       "      <td>1.018221</td>\n",
       "      <td>0.240399</td>\n",
       "      <td>0.757236</td>\n",
       "    </tr>\n",
       "    <tr>\n",
       "      <th>std</th>\n",
       "      <td>43299.105125</td>\n",
       "      <td>0.249740</td>\n",
       "      <td>249.762028</td>\n",
       "      <td>14.771902</td>\n",
       "      <td>4.192890</td>\n",
       "      <td>2037.824499</td>\n",
       "      <td>1.438414e+04</td>\n",
       "      <td>5.146006</td>\n",
       "      <td>4.169414</td>\n",
       "      <td>1.129704</td>\n",
       "      <td>4.155290</td>\n",
       "      <td>1.115103</td>\n",
       "    </tr>\n",
       "    <tr>\n",
       "      <th>min</th>\n",
       "      <td>9.000000</td>\n",
       "      <td>0.000000</td>\n",
       "      <td>0.000000</td>\n",
       "      <td>0.000000</td>\n",
       "      <td>0.000000</td>\n",
       "      <td>0.000000</td>\n",
       "      <td>0.000000e+00</td>\n",
       "      <td>0.000000</td>\n",
       "      <td>0.000000</td>\n",
       "      <td>0.000000</td>\n",
       "      <td>0.000000</td>\n",
       "      <td>0.000000</td>\n",
       "    </tr>\n",
       "    <tr>\n",
       "      <th>25%</th>\n",
       "      <td>37506.750000</td>\n",
       "      <td>0.000000</td>\n",
       "      <td>0.029863</td>\n",
       "      <td>41.000000</td>\n",
       "      <td>0.000000</td>\n",
       "      <td>0.175075</td>\n",
       "      <td>3.400000e+03</td>\n",
       "      <td>5.000000</td>\n",
       "      <td>0.000000</td>\n",
       "      <td>0.000000</td>\n",
       "      <td>0.000000</td>\n",
       "      <td>0.000000</td>\n",
       "    </tr>\n",
       "    <tr>\n",
       "      <th>50%</th>\n",
       "      <td>75004.500000</td>\n",
       "      <td>0.000000</td>\n",
       "      <td>0.154162</td>\n",
       "      <td>52.000000</td>\n",
       "      <td>0.000000</td>\n",
       "      <td>0.366516</td>\n",
       "      <td>5.400000e+03</td>\n",
       "      <td>8.000000</td>\n",
       "      <td>0.000000</td>\n",
       "      <td>1.000000</td>\n",
       "      <td>0.000000</td>\n",
       "      <td>0.000000</td>\n",
       "    </tr>\n",
       "    <tr>\n",
       "      <th>75%</th>\n",
       "      <td>112502.250000</td>\n",
       "      <td>0.000000</td>\n",
       "      <td>0.559012</td>\n",
       "      <td>63.000000</td>\n",
       "      <td>0.000000</td>\n",
       "      <td>0.868292</td>\n",
       "      <td>8.249000e+03</td>\n",
       "      <td>11.000000</td>\n",
       "      <td>0.000000</td>\n",
       "      <td>2.000000</td>\n",
       "      <td>0.000000</td>\n",
       "      <td>1.000000</td>\n",
       "    </tr>\n",
       "    <tr>\n",
       "      <th>max</th>\n",
       "      <td>150000.000000</td>\n",
       "      <td>1.000000</td>\n",
       "      <td>50708.000000</td>\n",
       "      <td>109.000000</td>\n",
       "      <td>98.000000</td>\n",
       "      <td>329664.000000</td>\n",
       "      <td>3.008750e+06</td>\n",
       "      <td>58.000000</td>\n",
       "      <td>98.000000</td>\n",
       "      <td>54.000000</td>\n",
       "      <td>98.000000</td>\n",
       "      <td>20.000000</td>\n",
       "    </tr>\n",
       "  </tbody>\n",
       "</table>\n",
       "</div>"
      ],
      "text/plain": [
       "          Unnamed: 0  SeriousDlqin2yrs  RevolvingUtilizationOfUnsecuredLines  \\\n",
       "count  149992.000000     149992.000000                         149992.000000   \n",
       "mean    75004.500000          0.066837                              6.048729   \n",
       "std     43299.105125          0.249740                            249.762028   \n",
       "min         9.000000          0.000000                              0.000000   \n",
       "25%     37506.750000          0.000000                              0.029863   \n",
       "50%     75004.500000          0.000000                              0.154162   \n",
       "75%    112502.250000          0.000000                              0.559012   \n",
       "max    150000.000000          1.000000                          50708.000000   \n",
       "\n",
       "                 age  NumberOfTime30-59DaysPastDueNotWorse      DebtRatio  \\\n",
       "count  149992.000000                         149992.000000  149992.000000   \n",
       "mean       52.295516                              0.421029     352.985824   \n",
       "std        14.771902                              4.192890    2037.824499   \n",
       "min         0.000000                              0.000000       0.000000   \n",
       "25%        41.000000                              0.000000       0.175075   \n",
       "50%        52.000000                              0.000000       0.366516   \n",
       "75%        63.000000                              0.000000       0.868292   \n",
       "max       109.000000                             98.000000  329664.000000   \n",
       "\n",
       "       MonthlyIncome  NumberOfOpenCreditLinesAndLoans  \\\n",
       "count   1.202620e+05                    149992.000000   \n",
       "mean    6.669872e+03                         8.452877   \n",
       "std     1.438414e+04                         5.146006   \n",
       "min     0.000000e+00                         0.000000   \n",
       "25%     3.400000e+03                         5.000000   \n",
       "50%     5.400000e+03                         8.000000   \n",
       "75%     8.249000e+03                        11.000000   \n",
       "max     3.008750e+06                        58.000000   \n",
       "\n",
       "       NumberOfTimes90DaysLate  NumberRealEstateLoansOrLines  \\\n",
       "count            149992.000000                 149992.000000   \n",
       "mean                  0.265981                      1.018221   \n",
       "std                   4.169414                      1.129704   \n",
       "min                   0.000000                      0.000000   \n",
       "25%                   0.000000                      0.000000   \n",
       "50%                   0.000000                      1.000000   \n",
       "75%                   0.000000                      2.000000   \n",
       "max                  98.000000                     54.000000   \n",
       "\n",
       "       NumberOfTime60-89DaysPastDueNotWorse  NumberOfDependents  \n",
       "count                         149992.000000       146068.000000  \n",
       "mean                               0.240399            0.757236  \n",
       "std                                4.155290            1.115103  \n",
       "min                                0.000000            0.000000  \n",
       "25%                                0.000000            0.000000  \n",
       "50%                                0.000000            0.000000  \n",
       "75%                                0.000000            1.000000  \n",
       "max                               98.000000           20.000000  "
      ]
     },
     "execution_count": 4,
     "metadata": {},
     "output_type": "execute_result"
    }
   ],
   "source": [
    "df.describe()"
   ]
  },
  {
   "cell_type": "markdown",
   "id": "1a1ca9c9-f766-4f56-a887-ef10f73fbc03",
   "metadata": {},
   "source": [
    "# 2. Kiểm tra dữ liệu khuyết thiếu và thay thế dữ liệu bị khuyết"
   ]
  },
  {
   "cell_type": "code",
   "execution_count": 5,
   "id": "1256b15c-b19e-4d15-b458-e1f527aa7d32",
   "metadata": {},
   "outputs": [
    {
     "data": {
      "text/html": [
       "<div>\n",
       "<style scoped>\n",
       "    .dataframe tbody tr th:only-of-type {\n",
       "        vertical-align: middle;\n",
       "    }\n",
       "\n",
       "    .dataframe tbody tr th {\n",
       "        vertical-align: top;\n",
       "    }\n",
       "\n",
       "    .dataframe thead th {\n",
       "        text-align: right;\n",
       "    }\n",
       "</style>\n",
       "<table border=\"1\" class=\"dataframe\">\n",
       "  <thead>\n",
       "    <tr style=\"text-align: right;\">\n",
       "      <th></th>\n",
       "      <th>Unnamed: 0</th>\n",
       "      <th>SeriousDlqin2yrs</th>\n",
       "      <th>RevolvingUtilizationOfUnsecuredLines</th>\n",
       "      <th>age</th>\n",
       "      <th>NumberOfTime30-59DaysPastDueNotWorse</th>\n",
       "      <th>DebtRatio</th>\n",
       "      <th>MonthlyIncome</th>\n",
       "      <th>NumberOfOpenCreditLinesAndLoans</th>\n",
       "      <th>NumberOfTimes90DaysLate</th>\n",
       "      <th>NumberRealEstateLoansOrLines</th>\n",
       "      <th>NumberOfTime60-89DaysPastDueNotWorse</th>\n",
       "      <th>NumberOfDependents</th>\n",
       "    </tr>\n",
       "  </thead>\n",
       "  <tbody>\n",
       "    <tr>\n",
       "      <th>0</th>\n",
       "      <td>False</td>\n",
       "      <td>False</td>\n",
       "      <td>False</td>\n",
       "      <td>False</td>\n",
       "      <td>False</td>\n",
       "      <td>False</td>\n",
       "      <td>True</td>\n",
       "      <td>False</td>\n",
       "      <td>False</td>\n",
       "      <td>False</td>\n",
       "      <td>False</td>\n",
       "      <td>True</td>\n",
       "    </tr>\n",
       "    <tr>\n",
       "      <th>1</th>\n",
       "      <td>False</td>\n",
       "      <td>False</td>\n",
       "      <td>False</td>\n",
       "      <td>False</td>\n",
       "      <td>False</td>\n",
       "      <td>False</td>\n",
       "      <td>False</td>\n",
       "      <td>False</td>\n",
       "      <td>False</td>\n",
       "      <td>False</td>\n",
       "      <td>False</td>\n",
       "      <td>False</td>\n",
       "    </tr>\n",
       "    <tr>\n",
       "      <th>2</th>\n",
       "      <td>False</td>\n",
       "      <td>False</td>\n",
       "      <td>False</td>\n",
       "      <td>False</td>\n",
       "      <td>False</td>\n",
       "      <td>False</td>\n",
       "      <td>False</td>\n",
       "      <td>False</td>\n",
       "      <td>False</td>\n",
       "      <td>False</td>\n",
       "      <td>False</td>\n",
       "      <td>False</td>\n",
       "    </tr>\n",
       "    <tr>\n",
       "      <th>3</th>\n",
       "      <td>False</td>\n",
       "      <td>False</td>\n",
       "      <td>False</td>\n",
       "      <td>False</td>\n",
       "      <td>False</td>\n",
       "      <td>False</td>\n",
       "      <td>False</td>\n",
       "      <td>False</td>\n",
       "      <td>False</td>\n",
       "      <td>False</td>\n",
       "      <td>False</td>\n",
       "      <td>False</td>\n",
       "    </tr>\n",
       "    <tr>\n",
       "      <th>4</th>\n",
       "      <td>False</td>\n",
       "      <td>False</td>\n",
       "      <td>False</td>\n",
       "      <td>False</td>\n",
       "      <td>False</td>\n",
       "      <td>False</td>\n",
       "      <td>False</td>\n",
       "      <td>False</td>\n",
       "      <td>False</td>\n",
       "      <td>False</td>\n",
       "      <td>False</td>\n",
       "      <td>False</td>\n",
       "    </tr>\n",
       "    <tr>\n",
       "      <th>...</th>\n",
       "      <td>...</td>\n",
       "      <td>...</td>\n",
       "      <td>...</td>\n",
       "      <td>...</td>\n",
       "      <td>...</td>\n",
       "      <td>...</td>\n",
       "      <td>...</td>\n",
       "      <td>...</td>\n",
       "      <td>...</td>\n",
       "      <td>...</td>\n",
       "      <td>...</td>\n",
       "      <td>...</td>\n",
       "    </tr>\n",
       "    <tr>\n",
       "      <th>149987</th>\n",
       "      <td>False</td>\n",
       "      <td>False</td>\n",
       "      <td>False</td>\n",
       "      <td>False</td>\n",
       "      <td>False</td>\n",
       "      <td>False</td>\n",
       "      <td>False</td>\n",
       "      <td>False</td>\n",
       "      <td>False</td>\n",
       "      <td>False</td>\n",
       "      <td>False</td>\n",
       "      <td>False</td>\n",
       "    </tr>\n",
       "    <tr>\n",
       "      <th>149988</th>\n",
       "      <td>False</td>\n",
       "      <td>False</td>\n",
       "      <td>False</td>\n",
       "      <td>False</td>\n",
       "      <td>False</td>\n",
       "      <td>False</td>\n",
       "      <td>False</td>\n",
       "      <td>False</td>\n",
       "      <td>False</td>\n",
       "      <td>False</td>\n",
       "      <td>False</td>\n",
       "      <td>False</td>\n",
       "    </tr>\n",
       "    <tr>\n",
       "      <th>149989</th>\n",
       "      <td>False</td>\n",
       "      <td>False</td>\n",
       "      <td>False</td>\n",
       "      <td>False</td>\n",
       "      <td>False</td>\n",
       "      <td>False</td>\n",
       "      <td>True</td>\n",
       "      <td>False</td>\n",
       "      <td>False</td>\n",
       "      <td>False</td>\n",
       "      <td>False</td>\n",
       "      <td>False</td>\n",
       "    </tr>\n",
       "    <tr>\n",
       "      <th>149990</th>\n",
       "      <td>False</td>\n",
       "      <td>False</td>\n",
       "      <td>False</td>\n",
       "      <td>False</td>\n",
       "      <td>False</td>\n",
       "      <td>False</td>\n",
       "      <td>False</td>\n",
       "      <td>False</td>\n",
       "      <td>False</td>\n",
       "      <td>False</td>\n",
       "      <td>False</td>\n",
       "      <td>False</td>\n",
       "    </tr>\n",
       "    <tr>\n",
       "      <th>149991</th>\n",
       "      <td>False</td>\n",
       "      <td>False</td>\n",
       "      <td>False</td>\n",
       "      <td>False</td>\n",
       "      <td>False</td>\n",
       "      <td>False</td>\n",
       "      <td>False</td>\n",
       "      <td>False</td>\n",
       "      <td>False</td>\n",
       "      <td>False</td>\n",
       "      <td>False</td>\n",
       "      <td>False</td>\n",
       "    </tr>\n",
       "  </tbody>\n",
       "</table>\n",
       "<p>149992 rows × 12 columns</p>\n",
       "</div>"
      ],
      "text/plain": [
       "        Unnamed: 0  SeriousDlqin2yrs  RevolvingUtilizationOfUnsecuredLines  \\\n",
       "0            False             False                                 False   \n",
       "1            False             False                                 False   \n",
       "2            False             False                                 False   \n",
       "3            False             False                                 False   \n",
       "4            False             False                                 False   \n",
       "...            ...               ...                                   ...   \n",
       "149987       False             False                                 False   \n",
       "149988       False             False                                 False   \n",
       "149989       False             False                                 False   \n",
       "149990       False             False                                 False   \n",
       "149991       False             False                                 False   \n",
       "\n",
       "          age  NumberOfTime30-59DaysPastDueNotWorse  DebtRatio  MonthlyIncome  \\\n",
       "0       False                                 False      False           True   \n",
       "1       False                                 False      False          False   \n",
       "2       False                                 False      False          False   \n",
       "3       False                                 False      False          False   \n",
       "4       False                                 False      False          False   \n",
       "...       ...                                   ...        ...            ...   \n",
       "149987  False                                 False      False          False   \n",
       "149988  False                                 False      False          False   \n",
       "149989  False                                 False      False           True   \n",
       "149990  False                                 False      False          False   \n",
       "149991  False                                 False      False          False   \n",
       "\n",
       "        NumberOfOpenCreditLinesAndLoans  NumberOfTimes90DaysLate  \\\n",
       "0                                 False                    False   \n",
       "1                                 False                    False   \n",
       "2                                 False                    False   \n",
       "3                                 False                    False   \n",
       "4                                 False                    False   \n",
       "...                                 ...                      ...   \n",
       "149987                            False                    False   \n",
       "149988                            False                    False   \n",
       "149989                            False                    False   \n",
       "149990                            False                    False   \n",
       "149991                            False                    False   \n",
       "\n",
       "        NumberRealEstateLoansOrLines  NumberOfTime60-89DaysPastDueNotWorse  \\\n",
       "0                              False                                 False   \n",
       "1                              False                                 False   \n",
       "2                              False                                 False   \n",
       "3                              False                                 False   \n",
       "4                              False                                 False   \n",
       "...                              ...                                   ...   \n",
       "149987                         False                                 False   \n",
       "149988                         False                                 False   \n",
       "149989                         False                                 False   \n",
       "149990                         False                                 False   \n",
       "149991                         False                                 False   \n",
       "\n",
       "        NumberOfDependents  \n",
       "0                     True  \n",
       "1                    False  \n",
       "2                    False  \n",
       "3                    False  \n",
       "4                    False  \n",
       "...                    ...  \n",
       "149987               False  \n",
       "149988               False  \n",
       "149989               False  \n",
       "149990               False  \n",
       "149991               False  \n",
       "\n",
       "[149992 rows x 12 columns]"
      ]
     },
     "execution_count": 5,
     "metadata": {},
     "output_type": "execute_result"
    }
   ],
   "source": [
    "df.isna()"
   ]
  },
  {
   "cell_type": "code",
   "execution_count": 6,
   "id": "c2d30848-b3f4-44fd-9b5f-665c300e9960",
   "metadata": {},
   "outputs": [],
   "source": [
    "# Thay thế giá trị khuyết thiếu bằng giá trị nội suy theo các cột\n",
    "df1 = df.interpolate(method = \"linear\", axis = 0).ffill().bfill()"
   ]
  },
  {
   "cell_type": "code",
   "execution_count": 7,
   "id": "a6eb629f-87e8-4566-8dbb-53b259281cb9",
   "metadata": {},
   "outputs": [
    {
     "name": "stdout",
     "output_type": "stream",
     "text": [
      "<class 'pandas.core.frame.DataFrame'>\n",
      "RangeIndex: 149992 entries, 0 to 149991\n",
      "Data columns (total 12 columns):\n",
      " #   Column                                Non-Null Count   Dtype  \n",
      "---  ------                                --------------   -----  \n",
      " 0   Unnamed: 0                            149992 non-null  int64  \n",
      " 1   SeriousDlqin2yrs                      149992 non-null  int64  \n",
      " 2   RevolvingUtilizationOfUnsecuredLines  149992 non-null  float64\n",
      " 3   age                                   149992 non-null  int64  \n",
      " 4   NumberOfTime30-59DaysPastDueNotWorse  149992 non-null  int64  \n",
      " 5   DebtRatio                             149992 non-null  float64\n",
      " 6   MonthlyIncome                         149992 non-null  float64\n",
      " 7   NumberOfOpenCreditLinesAndLoans       149992 non-null  int64  \n",
      " 8   NumberOfTimes90DaysLate               149992 non-null  int64  \n",
      " 9   NumberRealEstateLoansOrLines          149992 non-null  int64  \n",
      " 10  NumberOfTime60-89DaysPastDueNotWorse  149992 non-null  int64  \n",
      " 11  NumberOfDependents                    149992 non-null  float64\n",
      "dtypes: float64(4), int64(8)\n",
      "memory usage: 13.7 MB\n"
     ]
    }
   ],
   "source": [
    "df1.info()"
   ]
  },
  {
   "cell_type": "code",
   "execution_count": 8,
   "id": "274d3bd0-ab0b-4497-9036-def54387beb7",
   "metadata": {},
   "outputs": [
    {
     "name": "stdout",
     "output_type": "stream",
     "text": [
      "<class 'pandas.core.frame.DataFrame'>\n",
      "RangeIndex: 149992 entries, 0 to 149991\n",
      "Data columns (total 12 columns):\n",
      " #   Column                                Non-Null Count   Dtype  \n",
      "---  ------                                --------------   -----  \n",
      " 0   Unnamed: 0                            149992 non-null  int64  \n",
      " 1   SeriousDlqin2yrs                      149992 non-null  int64  \n",
      " 2   RevolvingUtilizationOfUnsecuredLines  149992 non-null  float64\n",
      " 3   age                                   149992 non-null  int64  \n",
      " 4   NumberOfTime30-59DaysPastDueNotWorse  149992 non-null  int64  \n",
      " 5   DebtRatio                             149992 non-null  float64\n",
      " 6   MonthlyIncome                         149992 non-null  float64\n",
      " 7   NumberOfOpenCreditLinesAndLoans       149992 non-null  int64  \n",
      " 8   NumberOfTimes90DaysLate               149992 non-null  int64  \n",
      " 9   NumberRealEstateLoansOrLines          149992 non-null  int64  \n",
      " 10  NumberOfTime60-89DaysPastDueNotWorse  149992 non-null  int64  \n",
      " 11  NumberOfDependents                    149992 non-null  float64\n",
      "dtypes: float64(4), int64(8)\n",
      "memory usage: 13.7 MB\n"
     ]
    }
   ],
   "source": [
    "# Thay thế giá trị khuyết thiếu bằng giá trị 0\n",
    "df2 = df.fillna(0)\n",
    "df2.info()"
   ]
  },
  {
   "cell_type": "markdown",
   "id": "4ddb249e-e610-4dae-a4c4-dbe59806abda",
   "metadata": {},
   "source": [
    "# 3. Vẽ biểu đồ boxplot, biểu đồ phân bố dữ liệu cho các cột"
   ]
  },
  {
   "cell_type": "code",
   "execution_count": 9,
   "id": "db37f3f5-3ce3-4523-b43f-9d2556d0803e",
   "metadata": {},
   "outputs": [
    {
     "data": {
      "text/plain": [
       "<AxesSubplot:xlabel='MonthlyIncome'>"
      ]
     },
     "execution_count": 9,
     "metadata": {},
     "output_type": "execute_result"
    },
    {
     "data": {
      "image/png": "[encoded data removed]",
      "text/plain": [
       "<Figure size 432x288 with 1 Axes>"
      ]
     },
     "metadata": {
      "needs_background": "light"
     },
     "output_type": "display_data"
    }
   ],
   "source": [
    "# Vẽ boxplot cho dữ liệu ở cột MonthlyIncome\n",
    "sns.boxplot(x = df1.MonthlyIncome)"
   ]
  },
  {
   "cell_type": "code",
   "execution_count": 10,
   "id": "0a176e09-3eba-48b1-8eb2-f248f6c62896",
   "metadata": {},
   "outputs": [
    {
     "data": {
      "text/plain": [
       "<AxesSubplot:xlabel='MonthlyIncome', ylabel='Density'>"
      ]
     },
     "execution_count": 10,
     "metadata": {},
     "output_type": "execute_result"
    },
    {
     "data": {
      "image/png": "[encoded data removed]",
      "text/plain": [
       "<Figure size 432x288 with 1 Axes>"
      ]
     },
     "metadata": {
      "needs_background": "light"
     },
     "output_type": "display_data"
    }
   ],
   "source": [
    "# vẽ biểu đồ phân bố dữ liệu\n",
    "sns.kdeplot(data = df1.MonthlyIncome)"
   ]
  },
  {
   "cell_type": "markdown",
   "id": "92a6996d-8116-4f86-aebb-2ca99f9ed9d4",
   "metadata": {},
   "source": [
    "# 4. Xử lý dữ liệu ngoại lai"
   ]
  },
  {
   "cell_type": "code",
   "execution_count": 11,
   "id": "04c730af-2674-46f6-b49f-fbc27abf19bd",
   "metadata": {},
   "outputs": [],
   "source": [
    "# Xoá dữ liệu ngoại lai bằng IQR Score\n",
    "Q1 = df1.MonthlyIncome.quantile(0.25)\n",
    "Q3 = df1.MonthlyIncome.quantile(0.75)\n",
    "IQR = Q3 - Q1"
   ]
  },
  {
   "cell_type": "code",
   "execution_count": 12,
   "id": "ead3d2b7-1391-48f0-83f3-f692fa7afd00",
   "metadata": {},
   "outputs": [],
   "source": [
    "# Xác định phần tử không phải ngoại lai\n",
    "new_df = df1[~((df1.MonthlyIncome < (Q1 - 1.5*IQR)) | (df1.MonthlyIncome > (Q3 + 1.5*IQR)))]"
   ]
  },
  {
   "cell_type": "code",
   "execution_count": 13,
   "id": "f41fae1f-c0c4-4845-9d80-e584cc025f3b",
   "metadata": {},
   "outputs": [
    {
     "name": "stdout",
     "output_type": "stream",
     "text": [
      "<class 'pandas.core.frame.DataFrame'>\n",
      "Int64Index: 143961 entries, 2 to 149991\n",
      "Data columns (total 12 columns):\n",
      " #   Column                                Non-Null Count   Dtype  \n",
      "---  ------                                --------------   -----  \n",
      " 0   Unnamed: 0                            143961 non-null  int64  \n",
      " 1   SeriousDlqin2yrs                      143961 non-null  int64  \n",
      " 2   RevolvingUtilizationOfUnsecuredLines  143961 non-null  float64\n",
      " 3   age                                   143961 non-null  int64  \n",
      " 4   NumberOfTime30-59DaysPastDueNotWorse  143961 non-null  int64  \n",
      " 5   DebtRatio                             143961 non-null  float64\n",
      " 6   MonthlyIncome                         143961 non-null  float64\n",
      " 7   NumberOfOpenCreditLinesAndLoans       143961 non-null  int64  \n",
      " 8   NumberOfTimes90DaysLate               143961 non-null  int64  \n",
      " 9   NumberRealEstateLoansOrLines          143961 non-null  int64  \n",
      " 10  NumberOfTime60-89DaysPastDueNotWorse  143961 non-null  int64  \n",
      " 11  NumberOfDependents                    143961 non-null  float64\n",
      "dtypes: float64(4), int64(8)\n",
      "memory usage: 14.3 MB\n"
     ]
    }
   ],
   "source": [
    "new_df.info()"
   ]
  },
  {
   "cell_type": "code",
   "execution_count": 14,
   "id": "1bebad9c-7b09-409f-8cb3-8f99b672e014",
   "metadata": {},
   "outputs": [
    {
     "data": {
      "text/plain": [
       "<AxesSubplot:xlabel='MonthlyIncome'>"
      ]
     },
     "execution_count": 14,
     "metadata": {},
     "output_type": "execute_result"
    },
    {
     "data": {
      "image/png": "[encoded data removed]",
      "text/plain": [
       "<Figure size 432x288 with 1 Axes>"
      ]
     },
     "metadata": {
      "needs_background": "light"
     },
     "output_type": "display_data"
    }
   ],
   "source": [
    "# Vẽ biểu đồ boxplot cho cột MonthlyIncome\n",
    "sns.boxplot(x = new_df.MonthlyIncome)"
   ]
  },
  {
   "cell_type": "code",
   "execution_count": 15,
   "id": "64e1cc61-c3a8-40be-98cc-36bf3aeae673",
   "metadata": {},
   "outputs": [
    {
     "data": {
      "text/plain": [
       "<AxesSubplot:xlabel='MonthlyIncome', ylabel='Density'>"
      ]
     },
     "execution_count": 15,
     "metadata": {},
     "output_type": "execute_result"
    },
    {
     "data": {
      "image/png": "[encoded data removed]",
      "text/plain": [
       "<Figure size 432x288 with 1 Axes>"
      ]
     },
     "metadata": {
      "needs_background": "light"
     },
     "output_type": "display_data"
    }
   ],
   "source": [
    "# Vẽ biểu đồ phân bố dữ liệu\n",
    "sns.kdeplot(data = new_df.MonthlyIncome)"
   ]
  },
  {
   "cell_type": "markdown",
   "id": "7dcbaadd-947c-4b68-bede-9de814cb9826",
   "metadata": {},
   "source": [
    "# 5. Mã hoá dữ liệu"
   ]
  },
  {
   "cell_type": "code",
   "execution_count": 16,
   "id": "12c15928-6ced-4ded-85f9-cb6564e6b556",
   "metadata": {},
   "outputs": [
    {
     "name": "stdout",
     "output_type": "stream",
     "text": [
      "<class 'pandas.core.frame.DataFrame'>\n",
      "RangeIndex: 149992 entries, 0 to 149991\n",
      "Data columns (total 12 columns):\n",
      " #   Column                                Non-Null Count   Dtype  \n",
      "---  ------                                --------------   -----  \n",
      " 0   Unnamed: 0                            149992 non-null  int64  \n",
      " 1   SeriousDlqin2yrs                      149992 non-null  int64  \n",
      " 2   RevolvingUtilizationOfUnsecuredLines  149992 non-null  float64\n",
      " 3   age                                   149992 non-null  int64  \n",
      " 4   NumberOfTime30-59DaysPastDueNotWorse  149992 non-null  int64  \n",
      " 5   DebtRatio                             149992 non-null  float64\n",
      " 6   MonthlyIncome                         149992 non-null  float64\n",
      " 7   NumberOfOpenCreditLinesAndLoans       149992 non-null  int64  \n",
      " 8   NumberOfTimes90DaysLate               149992 non-null  int64  \n",
      " 9   NumberRealEstateLoansOrLines          149992 non-null  int64  \n",
      " 10  NumberOfTime60-89DaysPastDueNotWorse  149992 non-null  int64  \n",
      " 11  NumberOfDependents                    149992 non-null  float64\n",
      "dtypes: float64(4), int64(8)\n",
      "memory usage: 13.7 MB\n"
     ]
    }
   ],
   "source": [
    "df1.info()"
   ]
  },
  {
   "cell_type": "markdown",
   "id": "13ba7a16-2e34-43f5-b50a-fbed06803878",
   "metadata": {},
   "source": [
    "=> Đã thử mã hoá dữ liệu nhưng hiện chưa thể mã hoá dữ liệu dạng số"
   ]
  },
  {
   "cell_type": "markdown",
   "id": "b17bafc9-87c8-4aa9-85bc-4fb7fa80ff24",
   "metadata": {},
   "source": [
    "# 6. Chia dữ liệu ở các cột thành nhóm có số lượng phần tử bằng nhau và đếm số lượng phần tử ở mỗi nhóm, lấy ra khoảng dữ liệu của mỗi nhóm"
   ]
  },
  {
   "cell_type": "code",
   "execution_count": 17,
   "id": "f1dbd6ff-993f-47b9-b0cd-4d7d218fd527",
   "metadata": {},
   "outputs": [],
   "source": [
    "# Rời rạc hoá dữ liệu \"DebtRatio\" thành 5 nhóm có số lượng phần tử tương đương nhau, sử dụng pd.qcut()\n",
    "cats = pd.qcut(df1.DebtRatio, 5)"
   ]
  },
  {
   "cell_type": "code",
   "execution_count": 18,
   "id": "b96680ee-f89f-4e86-ae10-d9869f974101",
   "metadata": {},
   "outputs": [
    {
     "data": {
      "text/plain": [
       "0         (4.0, 329664.0]\n",
       "1            (0.468, 4.0]\n",
       "2          (0.287, 0.468]\n",
       "3            (0.468, 4.0]\n",
       "4          (0.287, 0.468]\n",
       "               ...       \n",
       "149987     (0.134, 0.287]\n",
       "149988       (0.468, 4.0]\n",
       "149989    (4.0, 329664.0]\n",
       "149990    (-0.001, 0.134]\n",
       "149991     (0.134, 0.287]\n",
       "Name: DebtRatio, Length: 149992, dtype: category\n",
       "Categories (5, interval[float64, right]): [(-0.001, 0.134] < (0.134, 0.287] < (0.287, 0.468] < (0.468, 4.0] < (4.0, 329664.0]]"
      ]
     },
     "execution_count": 18,
     "metadata": {},
     "output_type": "execute_result"
    }
   ],
   "source": [
    "cats"
   ]
  },
  {
   "cell_type": "code",
   "execution_count": 19,
   "id": "8c0d0fdb-873f-4c76-9762-b0ac9e46f9d7",
   "metadata": {},
   "outputs": [
    {
     "data": {
      "text/plain": [
       "(0.468, 4.0]       30107\n",
       "(-0.001, 0.134]    29999\n",
       "(0.134, 0.287]     29998\n",
       "(0.287, 0.468]     29998\n",
       "(4.0, 329664.0]    29890\n",
       "Name: DebtRatio, dtype: int64"
      ]
     },
     "execution_count": 19,
     "metadata": {},
     "output_type": "execute_result"
    }
   ],
   "source": [
    "# Số lượng phần tử ở mỗi phần\n",
    "pd.value_counts(cats)"
   ]
  },
  {
   "cell_type": "markdown",
   "id": "9e74c129-860c-4322-bede-d48f6e3d640b",
   "metadata": {},
   "source": [
    "# 7. Chia dữ liệu ở các cột age và MonthlyIncome thành 5 nhóm theo các khoảng: 0, 30, 40, 50, 80, 150 và đếm số lượng phần tử ở mỗi nhóm"
   ]
  },
  {
   "cell_type": "code",
   "execution_count": 20,
   "id": "428ee0a7-8e2c-4cd2-a160-41f2e286fbc2",
   "metadata": {},
   "outputs": [
    {
     "data": {
      "text/plain": [
       "array([ 27,  57,  30,  51,  46,  40,  76,  64,  78,  53,  43,  25,  38,\n",
       "        39,  32,  58,  50,  69,  24,  28,  62,  42,  75,  26,  52,  41,\n",
       "        81,  31,  68,  70,  73,  29,  55,  35,  72,  60,  67,  36,  56,\n",
       "        49,  37,  66,  45,  83,  34,  44,  48,  61,  80,  47,  74,  59,\n",
       "        77,  63,  54,  33,  79,  65,  86,  92,  23,  87,  71,  22,  90,\n",
       "        97,  84,  82,  91,  89,  85,  88,  21,  93,  96,  99,  94,  95,\n",
       "       101,  98, 103, 102, 107, 105,   0, 109], dtype=int64)"
      ]
     },
     "execution_count": 20,
     "metadata": {},
     "output_type": "execute_result"
    }
   ],
   "source": [
    "df1.age.unique()"
   ]
  },
  {
   "cell_type": "code",
   "execution_count": 23,
   "id": "d00f3b2f-ad2f-481d-bcce-0e18a417e9bd",
   "metadata": {},
   "outputs": [
    {
     "data": {
      "text/plain": [
       "0         U30\n",
       "1         U80\n",
       "2         U30\n",
       "3         U80\n",
       "4         U50\n",
       "         ... \n",
       "149987    U80\n",
       "149988    U50\n",
       "149989    U80\n",
       "149990    U30\n",
       "149991    U80\n",
       "Name: age, Length: 149992, dtype: category\n",
       "Categories (5, object): ['U30' < 'U40' < 'U50' < 'U80' < 'Long-live']"
      ]
     },
     "execution_count": 23,
     "metadata": {},
     "output_type": "execute_result"
    }
   ],
   "source": [
    "bins = [0, 30, 40, 50, 80, 150]\n",
    "group_names = [\"U30\", \"U40\", \"U50\", \"U80\", \"Long-live\"]\n",
    "\n",
    "age_range = pd.cut(df1.age, bins, labels = group_names)\n",
    "age_range"
   ]
  },
  {
   "cell_type": "code",
   "execution_count": 24,
   "id": "3b03d568-8da6-4a7d-95c9-a5ec30155cbc",
   "metadata": {},
   "outputs": [
    {
     "data": {
      "text/plain": [
       "U80          74928\n",
       "U50          35035\n",
       "U40          24336\n",
       "U30          10756\n",
       "Long-live     4936\n",
       "Name: age, dtype: int64"
      ]
     },
     "execution_count": 24,
     "metadata": {},
     "output_type": "execute_result"
    }
   ],
   "source": [
    "pd.value_counts(age_range)"
   ]
  },
  {
   "cell_type": "code",
   "execution_count": null,
   "id": "97faefb4-d875-4a82-bf21-60d99a7549aa",
   "metadata": {},
   "outputs": [],
   "source": []
  }
 ],
 "metadata": {
  "kernelspec": {
   "display_name": "Python 3 (ipykernel)",
   "language": "python",
   "name": "python3"
  },
  "language_info": {
   "codemirror_mode": {
    "name": "ipython",
    "version": 3
   },
   "file_extension": ".py",
   "mimetype": "text/x-python",
   "name": "python",
   "nbconvert_exporter": "python",
   "pygments_lexer": "ipython3",
   "version": "3.10.1"
  }
 },
 "nbformat": 4,
 "nbformat_minor": 5
}
